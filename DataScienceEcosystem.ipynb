{
 "cells": [
  {
   "cell_type": "markdown",
   "id": "f1783393-bdd9-4ee4-80c6-24f549cea93e",
   "metadata": {},
   "source": [
    "# Data Science Tools and Ecosystem"
   ]
  },
  {
   "cell_type": "markdown",
   "id": "ced72d5b-dd88-4597-bc7b-01b9cd5a1fa0",
   "metadata": {},
   "source": [
    "In this notebook, Data Science Tools and Ecosystem are summarized."
   ]
  },
  {
   "cell_type": "markdown",
   "id": "05345d86-75d5-4df5-a911-dc85f7cf4704",
   "metadata": {},
   "source": [
    "Some of the popular languages that Data Scientists use are:\n",
    "\n",
    "1. Python\n",
    "2. R\n",
    "3. SQL\n",
    "4. Scala\n",
    "5. Julia"
   ]
  },
  {
   "cell_type": "markdown",
   "id": "533d706a-618e-4280-91eb-fb53c72618b2",
   "metadata": {},
   "source": [
    "Some of the commonly used libraries used by Data Scientists include:\n",
    "\n",
    "1. Pandas – for data manipulation and analysis\n",
    "2. NumPy – for numerical computing and array operations\n",
    "3. Matplotlib – for data visualization\n",
    "4. Scikit-learn – for machine learning and predictive modeling\n",
    "5. TensorFlow – for deep learning and neural networks"
   ]
  },
  {
   "cell_type": "markdown",
   "id": "0367eacf-01e1-49fb-a242-e7adf63c79d2",
   "metadata": {},
   "source": [
    "| Data Science Tools        |\n",
    "|---------------------------|\n",
    "| Jupyter Notebook          |\n",
    "| RStudio                   |\n",
    "| VS Code                   |\n"
   ]
  },
  {
   "cell_type": "markdown",
   "id": "3d1485d6-761a-46f5-8223-25e80e0791d0",
   "metadata": {},
   "source": [
    "### Below are a few examples of evaluating arithmetic expressions in Python.\n"
   ]
  },
  {
   "cell_type": "code",
   "execution_count": 1,
   "id": "a5bf342a-f0f8-464a-9222-d92078b3bc89",
   "metadata": {},
   "outputs": [
    {
     "data": {
      "text/plain": [
       "17"
      ]
     },
     "execution_count": 1,
     "metadata": {},
     "output_type": "execute_result"
    }
   ],
   "source": [
    "# This is a simple arithmetic expression to multiply then add integers\n",
    "(3 * 4) + 5\n"
   ]
  },
  {
   "cell_type": "code",
   "execution_count": 2,
   "id": "80543c7a-e796-460c-8bbe-5e8fa2096ff2",
   "metadata": {},
   "outputs": [
    {
     "name": "stdout",
     "output_type": "stream",
     "text": [
      "17\n"
     ]
    }
   ],
   "source": [
    "# This is a simple arithmetic expression to multiply then add integers\n",
    "result = (3 * 4) + 5\n",
    "print(result)"
   ]
  },
  {
   "cell_type": "code",
   "execution_count": 3,
   "id": "88a664e9-d5e4-4d78-b8d1-79b34dadf884",
   "metadata": {},
   "outputs": [
    {
     "data": {
      "text/plain": [
       "3.3333333333333335"
      ]
     },
     "execution_count": 3,
     "metadata": {},
     "output_type": "execute_result"
    }
   ],
   "source": [
    "# This will convert 200 minutes to hours by dividing by 60\n",
    "200 / 60\n"
   ]
  },
  {
   "cell_type": "code",
   "execution_count": 4,
   "id": "66808884-7a4e-49f5-b446-b0b6676774c6",
   "metadata": {},
   "outputs": [
    {
     "data": {
      "text/plain": [
       "3.33"
      ]
     },
     "execution_count": 4,
     "metadata": {},
     "output_type": "execute_result"
    }
   ],
   "source": [
    "# This will convert 200 minutes to hours by dividing by 60\n",
    "round(200 / 60, 2)  # Returns 3.33\n"
   ]
  },
  {
   "cell_type": "markdown",
   "id": "d4685cd4-93b8-4d07-97ac-9b1bac197b23",
   "metadata": {},
   "source": [
    "**Objectives:**\n",
    "\n",
    "- List popular languages for Data Science  \n",
    "- Identify commonly used libraries in Data Science  \n",
    "- Create and format tables using Markdown  \n",
    "- Evaluate arithmetic expressions using Python  \n",
    "- Convert units using simple Python calculations"
   ]
  },
  {
   "cell_type": "markdown",
   "id": "646508db-2d0a-4ad7-8006-09fd7aa33a97",
   "metadata": {},
   "source": [
    "## Author  \n",
    "Jason Bradley"
   ]
  },
  {
   "cell_type": "code",
   "execution_count": null,
   "id": "81227924-b40a-44c9-b8e8-04fdc1f9c2a1",
   "metadata": {},
   "outputs": [],
   "source": []
  }
 ],
 "metadata": {
  "kernelspec": {
   "display_name": "Python 3 (ipykernel)",
   "language": "python",
   "name": "python3"
  },
  "language_info": {
   "codemirror_mode": {
    "name": "ipython",
    "version": 3
   },
   "file_extension": ".py",
   "mimetype": "text/x-python",
   "name": "python",
   "nbconvert_exporter": "python",
   "pygments_lexer": "ipython3",
   "version": "3.12.7"
  }
 },
 "nbformat": 4,
 "nbformat_minor": 5
}
